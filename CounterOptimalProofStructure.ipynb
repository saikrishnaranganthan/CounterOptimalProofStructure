{
 "cells": [
  {
   "cell_type": "code",
   "execution_count": 27,
   "metadata": {},
   "outputs": [
    {
     "name": "stdout",
     "output_type": "stream",
     "text": [
      "{1: True, 2: True}\n",
      "{1: {}, 2: {}}\n",
      "{<_ast.For object at 0x0000017BF4DA0DA0>: 1, <_ast.While object at 0x0000017BF4DC8048>: 2}\n",
      "{1: 1, 2: 2, 3: 3}\n"
     ]
    }
   ],
   "source": [
    "import ast\n",
    "import inspect\n",
    "\n",
    "def function1(arr):\n",
    "                                                                 #Recursive\n",
    "    if len(arr) <= 1:\n",
    "        return arr\n",
    "    \n",
    "    L, R = function1(arr[:len(arr)//2]), function1(arr[len(arr)//2:])\n",
    "    Ans = []\n",
    "    \n",
    "    while L and R:\n",
    "        \n",
    "        if L[0] < R[0]:\n",
    "            Ans.append(L.pop(0))\n",
    "            \n",
    "        else:\n",
    "            Ans.append(R.pop(0))\n",
    "            \n",
    "    return Ans + L + R\n",
    "    \n",
    "def function2(arr):   \n",
    "                                                               #Non Recursive\n",
    "    for i in range(len(arr)):\n",
    "        \n",
    "        j = i + 1\n",
    "        \n",
    "        while j < len(arr):\n",
    "            \n",
    "            if arr[j] < arr[i]: \n",
    "                arr[j], arr[i] = arr[i], arr[j]\n",
    "                \n",
    "            j += 1\n",
    "            \n",
    "    return arr\n",
    "\n",
    "def get_backedges(function2):\n",
    "    \n",
    "    loop_statements = [ast.For, ast.While]\n",
    "    BackEdges = []\n",
    "    \n",
    "    for node in ast.walk(ast.parse(inspect.getsource(function))):\n",
    "        \n",
    "        if type(node) in loop_statements:\n",
    "            BackEdges.append(node)\n",
    "            \n",
    "    return BackEdges\n",
    "\n",
    "#CounterOptimalProofStructure\n",
    "BackEdges = get_backedges(function)\n",
    "S, M, G, B  = {}, {}, {}, {1: 0, 2: 0, 3: 0}\n",
    "\n",
    "def Gen(n, i):                                 # Currently a helper function, representing invocation of invariant \n",
    "                                               # generation tool\n",
    "    Count = 0                                  # Returns True iff number of mappings equals number of counters\n",
    "    \n",
    "    for q in M:\n",
    "        if M[q] is not None: Count += 1\n",
    "    \n",
    "    B[i] += 1                         \n",
    "            \n",
    "    return bool(Count == n)\n",
    "        \n",
    "    \n",
    "def GenerateCounterOptimalProofStructure():\n",
    "    \n",
    "    n = 0\n",
    "    for q in BackEdges: M[q] = None                         # Initializes a Hash - Map  \n",
    "        \n",
    "    Complete = False\n",
    "    while not Complete:\n",
    "        \n",
    "        Complete = True                                     # Constructs a list of BackEdges that have not been mapped\n",
    "        UnmappedBackEdges = [q for q in M if M[q] is None]  # to a counter\n",
    "        \n",
    "        for q in UnmappedBackEdges:                             \n",
    "            \n",
    "            for c in S:\n",
    "                M[q] = c                                    # Tries to map Back Edge to an existing Counter and checks \n",
    "                                                            # if a bound can be computed for that back edge          \n",
    "                if Gen(n, 1): break                            # This is done to achieve minimality in number of counters\n",
    "                else: M[q] = None\n",
    "            \n",
    "            if M[q] is None:                                \n",
    "                                                           # If the bound could not be computed, a new counter variable \n",
    "                n += 1                                     # is introduced\n",
    "                for c in S: G[c][n] = True                 # Edges from all pre existing counter variables to the new \n",
    "                S[n], G[n] = True, {}                      # counter variable are introduced, and the possibility of computing\n",
    "                M[q] = n                                   # a bound is checked. If not possible, the introduction of counter\n",
    "                                                           # and edges are un - done. This is so because ability of computing \n",
    "                if not Gen(n, 2):                          # a bound is maximum when all edges on to the new counter are present\n",
    "                    G.pop(n)                               # If a bound could be computed, newly introduced edges\n",
    "                    S.pop(n)                               # are removed one at a time, and unnecessary ones are discarded\n",
    "                    for c in G: G.pop(n)                   # This is done to achieve minimality of dependencies\n",
    "                    n -= 1                                \n",
    "                    M[q] = None \n",
    "                    continue \n",
    "                \n",
    "                Complete = False\n",
    "                for c in G:                              \n",
    "                    if not c == n:\n",
    "                        G[c].pop(n)\n",
    "                    if not Gen(n, 3): G[c][n] = True\n",
    "                \n",
    "            else: Complete = False                         \n",
    "                \n",
    "    for q in M:                                           # If a back edge could not be mapped to a counter, effectively\n",
    "        if M[q] is None: return False                     # inability to compute bound at a backedge, there does not exist \n",
    "                                                          # a proof structure\n",
    "    return True                                           # Else a counter optimal one is generated \n",
    "  \n",
    "GenerateCounterOptimalProofStructure()\n",
    "                \n",
    "print(S)\n",
    "print(G)\n",
    "print(M)                        \n",
    "print(B)                        \n",
    "                \n",
    "    \n",
    "                \n",
    "                \n",
    "                \n",
    "                \n",
    "             \n",
    "            \n",
    "            \n",
    "                \n",
    "        \n",
    "        \n",
    "        \n",
    "    \n",
    "    "
   ]
  },
  {
   "cell_type": "code",
   "execution_count": 25,
   "metadata": {},
   "outputs": [
    {
     "name": "stdout",
     "output_type": "stream",
     "text": [
      "[<_ast.For object at 0x0000017BF4D98E48>, <_ast.While object at 0x0000017BF4D98B70>]\n"
     ]
    }
   ],
   "source": [
    "def selectionsort(arr):\n",
    "    \n",
    "    for i in range(len(arr)):\n",
    "        \n",
    "        j = i + 1\n",
    "        \n",
    "        while j < len(arr):\n",
    "            \n",
    "            if arr[j] < arr[i]:\n",
    "                \n",
    "                arr[j], arr[i] = arr[i], arr[j]\n",
    "                \n",
    "            j += 1\n",
    "                \n",
    "    return arr\n",
    "    \n",
    "\n",
    "    \n",
    "import ast\n",
    "import inspect\n",
    "\n",
    "def get_backedges(function):\n",
    "    \n",
    "    loop_statements = [ast.For, ast.While]\n",
    "    BackEdges = []\n",
    "    \n",
    "    for node in ast.walk(ast.parse(inspect.getsource(function))):\n",
    "        if type(node) in loop_statements:\n",
    "            BackEdges.append(node)\n",
    "    return BackEdges\n",
    "    \n",
    "\n",
    "print(get_backedges(selectionsort))\n",
    "\n",
    "\n",
    "\n",
    "\n",
    "\n",
    "\n",
    "\n"
   ]
  },
  {
   "cell_type": "code",
   "execution_count": 6,
   "metadata": {},
   "outputs": [
    {
     "data": {
      "text/plain": [
       "False"
      ]
     },
     "execution_count": 6,
     "metadata": {},
     "output_type": "execute_result"
    }
   ],
   "source": []
  },
  {
   "cell_type": "code",
   "execution_count": 20,
   "metadata": {},
   "outputs": [
    {
     "name": "stdout",
     "output_type": "stream",
     "text": [
      "[<_ast.For object at 0x0000017BF4D8DD68>, <_ast.For object at 0x0000017BF4D97128>]\n",
      "<generator object walk at 0x0000017BF4C9ACA8>\n"
     ]
    }
   ],
   "source": [
    "import ast\n",
    "\n",
    "code = ast.parse(''' \n",
    "for i in range(1):\n",
    "    print(1)\n",
    "for i in range(1):\n",
    "    print(2)\n",
    "''')\n",
    "L = []\n",
    "for node in ast.walk(code):\n",
    "    if type(node) is ast.For:\n",
    "        L.append(node)\n",
    "print(L)\n"
   ]
  },
  {
   "cell_type": "code",
   "execution_count": 10,
   "metadata": {},
   "outputs": [
    {
     "data": {
      "text/plain": [
       "<generator object walk at 0x0000017BF4D8F048>"
      ]
     },
     "execution_count": 10,
     "metadata": {},
     "output_type": "execute_result"
    }
   ],
   "source": [
    "ast.walk(code)"
   ]
  },
  {
   "cell_type": "code",
   "execution_count": 28,
   "metadata": {},
   "outputs": [
    {
     "name": "stdout",
     "output_type": "stream",
     "text": [
      "<_ast.Module object at 0x0000017BF4D97FD0>\n",
      "<_ast.FunctionDef object at 0x0000017BF4D8D710>\n",
      "<_ast.arguments object at 0x0000017BF4D8D9B0>\n",
      "<_ast.If object at 0x0000017BF4D8D518>\n",
      "<_ast.Return object at 0x0000017BF4D8D898>\n",
      "<_ast.arg object at 0x0000017BF4D8D5F8>\n",
      "<_ast.BoolOp object at 0x0000017BF4D8D0F0>\n",
      "<_ast.Return object at 0x0000017BF4D8D940>\n",
      "<_ast.BinOp object at 0x0000017BF4D8D8D0>\n",
      "<_ast.Or object at 0x0000017BF11DC208>\n",
      "<_ast.Compare object at 0x0000017BF4D8DE80>\n",
      "<_ast.Compare object at 0x0000017BF4D8D7F0>\n",
      "<_ast.Name object at 0x0000017BF4D8D2E8>\n",
      "<_ast.Call object at 0x0000017BF4D8D668>\n",
      "<_ast.Add object at 0x0000017BF11DC3C8>\n",
      "<_ast.Call object at 0x0000017BF4D980F0>\n",
      "<_ast.Name object at 0x0000017BF4D8DCF8>\n",
      "<_ast.Eq object at 0x0000017BF11E1828>\n",
      "<_ast.Num object at 0x0000017BF4D8D208>\n",
      "<_ast.Name object at 0x0000017BF4D8D9E8>\n",
      "<_ast.Eq object at 0x0000017BF11E1828>\n",
      "<_ast.Num object at 0x0000017BF4D8DF28>\n",
      "<_ast.Load object at 0x0000017BF11D84A8>\n",
      "<_ast.Name object at 0x0000017BF4D8D390>\n",
      "<_ast.BinOp object at 0x0000017BF4D8D470>\n",
      "<_ast.Name object at 0x0000017BF4D98E48>\n",
      "<_ast.BinOp object at 0x0000017BF4D98358>\n",
      "<_ast.Load object at 0x0000017BF11D84A8>\n",
      "<_ast.Load object at 0x0000017BF11D84A8>\n",
      "<_ast.Load object at 0x0000017BF11D84A8>\n",
      "<_ast.Name object at 0x0000017BF4D8D748>\n",
      "<_ast.Sub object at 0x0000017BF11DC4E0>\n",
      "<_ast.Num object at 0x0000017BF4D8D128>\n",
      "<_ast.Load object at 0x0000017BF11D84A8>\n",
      "<_ast.Name object at 0x0000017BF4D98278>\n",
      "<_ast.Sub object at 0x0000017BF11DC4E0>\n",
      "<_ast.Num object at 0x0000017BF4D983C8>\n",
      "<_ast.Load object at 0x0000017BF11D84A8>\n",
      "<_ast.Load object at 0x0000017BF11D84A8>\n"
     ]
    }
   ],
   "source": [
    "def fibonacci(n):\n",
    "    \n",
    "    if n == 0 or n == 1: return n\n",
    "    \n",
    "    return fibonacci(n - 1) + fibonacci(n - 2)\n",
    "\n",
    "for node in ast.walk(ast.parse(inspect.getsource(fibonacci))):\n",
    "    print(node)\n",
    "    \n",
    "    "
   ]
  },
  {
   "cell_type": "code",
   "execution_count": 8,
   "metadata": {},
   "outputs": [
    {
     "name": "stdout",
     "output_type": "stream",
     "text": [
      "\n",
      "for i in range(n):\n",
      " c1 = 0  \n",
      "    for j in range(m):\n",
      " c2 = 0  \n",
      "        print(i*j)\n"
     ]
    }
   ],
   "source": [
    "def insert_statements(src):\n",
    "    \n",
    "    i = 1\n",
    "    j, Insert = 0, False\n",
    "    temp = \"\"\n",
    "    \n",
    "    while j < len(src):\n",
    "        \n",
    "        if src[j: j + 3] == 'for':        \n",
    "            Insert = True\n",
    "    \n",
    "        temp = temp + src[j]\n",
    "        \n",
    "        if Insert == True and src[j]  == ':':\n",
    "            \n",
    "            temp = temp + src[j + 1] + ' c' + str(i) + ' = 0  ' \n",
    "            Insert = False\n",
    "            i += 1\n",
    "            \n",
    "        j = j + 1\n",
    "        \n",
    "    return temp \n",
    "\n",
    "s = '''\n",
    "for i in range(n):\n",
    "    for j in range(m):\n",
    "        print(i*j)'''\n",
    "\n",
    "print(insert_statements(s))\n",
    "            \n",
    "        \n",
    "\n",
    "            \n",
    "        \n",
    "            \n",
    "        \n",
    "    \n",
    "    \n",
    "    "
   ]
  },
  {
   "cell_type": "code",
   "execution_count": 8,
   "metadata": {},
   "outputs": [
    {
     "name": "stdout",
     "output_type": "stream",
     "text": [
      "<function f at 0x0000023E42834BF8>\n"
     ]
    }
   ],
   "source": []
  },
  {
   "cell_type": "code",
   "execution_count": 10,
   "metadata": {},
   "outputs": [
    {
     "name": "stdout",
     "output_type": "stream",
     "text": [
      "65\n"
     ]
    }
   ],
   "source": [
    "print(ord('A'))"
   ]
  },
  {
   "cell_type": "code",
   "execution_count": 13,
   "metadata": {},
   "outputs": [
    {
     "name": "stdout",
     "output_type": "stream",
     "text": [
      "AmanaplanacanalPanama\n"
     ]
    }
   ],
   "source": [
    "    s = \"A man, a plan, a canal: Panama\"\n",
    "    temp = \"\"\n",
    "    for i in range(len(s)):\n",
    "            \n",
    "        if (ord(s[i]) >= 48 and ord(s[i]) <= 57) or (ord(s[i]) >= 97 and ord(s[i]) <= 122) or (ord(s[i]) >= 65 and ord(s[i]) <= 65 + 25):\n",
    "                temp = temp + s[i]\n",
    "    print(temp)"
   ]
  },
  {
   "cell_type": "code",
   "execution_count": null,
   "metadata": {},
   "outputs": [],
   "source": []
  }
 ],
 "metadata": {
  "kernelspec": {
   "display_name": "Python 3",
   "language": "python",
   "name": "python3"
  },
  "language_info": {
   "codemirror_mode": {
    "name": "ipython",
    "version": 3
   },
   "file_extension": ".py",
   "mimetype": "text/x-python",
   "name": "python",
   "nbconvert_exporter": "python",
   "pygments_lexer": "ipython3",
   "version": "3.6.8"
  }
 },
 "nbformat": 4,
 "nbformat_minor": 2
}
